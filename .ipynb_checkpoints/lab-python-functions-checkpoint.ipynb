{
 "cells": [
  {
   "cell_type": "markdown",
   "id": "25d7736c-ba17-4aff-b6bb-66eba20fbf4e",
   "metadata": {},
   "source": [
    "# Lab | Functions"
   ]
  },
  {
   "cell_type": "markdown",
   "id": "0c581062-8967-4d93-b06e-62833222f930",
   "metadata": {
    "tags": []
   },
   "source": [
    "## Exercise: Managing Customer Orders with Functions\n",
    "\n",
    "In the previous exercise, you improved the code for managing customer orders by using loops and flow control. Now, let's take it a step further and refactor the code by introducing functions.\n",
    "\n",
    "Follow the steps below to complete the exercise:\n",
    "\n",
    "1. Define a function named `initialize_inventory` that takes `products` as a parameter. Inside the function, implement the code for initializing the inventory dictionary using a loop and user input.\n",
    "\n",
    "2. Define a function named `get_customer_orders` that takes no parameters. Inside the function, implement the code for prompting the user to enter the product names using a loop. The function should return the `customer_orders` set.\n",
    "\n",
    "3. Define a function named `update_inventory` that takes `customer_orders` and `inventory` as parameters. Inside the function, implement the code for updating the inventory dictionary based on the customer orders.\n",
    "\n",
    "4. Define a function named `calculate_order_statistics` that takes `customer_orders` and `products` as parameters. Inside the function, implement the code for calculating the order statistics (total products ordered, and percentage of unique products ordered). The function should return these values.\n",
    "\n",
    "5. Define a function named `print_order_statistics` that takes `order_statistics` as a parameter. Inside the function, implement the code for printing the order statistics.\n",
    "\n",
    "6. Define a function named `print_updated_inventory` that takes `inventory` as a parameter. Inside the function, implement the code for printing the updated inventory.\n",
    "\n",
    "7. Call the functions in the appropriate sequence to execute the program and manage customer orders.\n",
    "\n",
    "Hints for functions:\n",
    "\n",
    "- Consider the input parameters required for each function and their return values.\n",
    "- Utilize function parameters and return values to transfer data between functions.\n",
    "- Test your functions individually to ensure they work correctly.\n",
    "\n",
    "\n"
   ]
  },
  {
   "cell_type": "raw",
   "id": "92b4870a-7c3f-4559-a16f-f18a35f0411f",
   "metadata": {},
   "source": [
    "#Look at your code from the lab data structures, and improve repeated code with loops.\n",
    "#Define a list called products that contains the following items: \"t-shirt\", \"mug\", \"hat\", \"book\", \"keychain\".\n",
    "\n",
    "products = [\"t-shirt\", \"mug\", \"hat\", \"book\", \"keychain\"]\n",
    "\n",
    "# Create an empty dictionary called inventory.\n",
    "inventory = {}\n",
    "\n",
    "# Ask the user to input the quantity of each product available in the inventory.\n",
    "for product in products:\n",
    "    # Prompt the user for input and convert it to an integer\n",
    "    quantity = int(input(f\"Enter quantity of {product}s available: \"))\n",
    "    # Store the quantity in the dictionary with the product as the key\n",
    "    inventory[product] = quantity\n",
    "\n",
    "# Print the inventory dictionary\n",
    "print(inventory)\n",
    "\n"
   ]
  },
  {
   "cell_type": "raw",
   "id": "01a35afc-3a55-4d8b-8ab9-be5110de0d2a",
   "metadata": {},
   "source": [
    "\n",
    "#Create an empty set\n",
    "customer_orders=set()\n",
    "\n",
    "#Ask the user to input the name of three products that a customer wants to order (from those in the products list, meaning three products out of \"t-shirt\", \"mug\", \"hat\", \"book\" or \"keychain\". Add each product name to the customer_orders set.\n",
    "#Instead of asking the user to input the name of three products that a customer wants to order, do the following:\n",
    "#a. Prompt the user to enter the name of a product that a customer wants to order.\n",
    "#b. Add the product name to the \"customer_orders\" set.\n",
    "#c. Ask the user if they want to add another product (yes/no).\n",
    "#d. Continue the loop until the user does not want to add another product\n",
    "\n",
    "\n",
    "while True:\n",
    "    # Prompt the user to enter a product name\n",
    "    product = input(\"Enter a product from the list\").strip().lower()\n",
    "    \n",
    "    # Check if the entered product is valid\n",
    "    if product in products:\n",
    "        # Add the product to the customer_orders set\n",
    "        customer_orders.add(product)\n",
    "    else:\n",
    "        print(\"Invalid product name. Please enter a valid product from the list.\")\n",
    "\n",
    "    # Ask the user if they want to add another product\n",
    "    add_more = input(\"Add another product? (yes/no): \").strip().lower()\n",
    "    \n",
    "    # Break the loop if the user does not want to add more products\n",
    "    if add_more != 'yes':\n",
    "        break\n",
    "\n",
    "print(\"\\nCustomer Orders:\")\n",
    "print(customer_orders)\n"
   ]
  },
  {
   "cell_type": "raw",
   "id": "2a3fd79c-5b0f-4646-983f-4c53946c62b8",
   "metadata": {},
   "source": [
    "#Calculate the following order statistics:\n",
    "\n",
    "#Total Products Ordered: The total number of products in the customer_orders set.\n",
    "#Percentage of Products Ordered: The percentage of products ordered compared to the total available products.\n",
    "#Store these statistics in a tuple called order_status.\n",
    "\n",
    "total = len(customer_orders)\n",
    "percentage = len(customer_orders) / len(products) *100\n",
    "\n",
    "print(total)\n",
    "print(percentage) and print( \"%\")\n",
    "\n",
    "print(\"Order Statistics:\")\n",
    "print(f\"Total Products Ordered: {total}\")\n",
    "print(f\"Percentage of Products Ordered: {percentage}%\")\n"
   ]
  },
  {
   "cell_type": "raw",
   "id": "8ef38a33-297f-4194-8cf7-e9efe1cc785e",
   "metadata": {},
   "source": [
    "#Update the inventory by subtracting 1 from the quantity of each product. Modify the inventory dictionary accordingly.\n",
    "\n",
    "\n",
    "for product in customer_orders:\n",
    "   if inventory.get(product) is not None:\n",
    "       inventory[product] = max(0, inventory[product] - 1)\n",
    "\n",
    "\n",
    "print(\"Updated Inventory:\")\n",
    "for product, quantity in inventory.items():\n",
    "   print(f\"{product}: {quantity}\")\n"
   ]
  },
  {
   "cell_type": "code",
   "execution_count": 1,
   "id": "8f76d9f6-aa9e-4b66-9917-625dd68fc4ec",
   "metadata": {},
   "outputs": [],
   "source": [
    "#Define a function named initialize_inventory that takes products as a parameter. \n",
    "#Inside the function, implement the code for initializing the inventory dictionary using a loop and user input.\n",
    "\n",
    "def initialize_inventory(products):\n",
    "    inventory={}\n",
    "    for product in products:\n",
    "        inventory = products[\"t-shirt\", \"mug\", \"hat\", \"book\", \"keychain\"]\n",
    "    return inventory\n",
    "        \n",
    "    "
   ]
  },
  {
   "cell_type": "code",
   "execution_count": 11,
   "id": "169f657d-dc22-49dd-8fe5-1b6b730e5fbe",
   "metadata": {},
   "outputs": [
    {
     "ename": "SyntaxError",
     "evalue": "'break' outside loop (1335308013.py, line 17)",
     "output_type": "error",
     "traceback": [
      "\u001b[0;36m  Cell \u001b[0;32mIn[11], line 17\u001b[0;36m\u001b[0m\n\u001b[0;31m    break\u001b[0m\n\u001b[0m    ^\u001b[0m\n\u001b[0;31mSyntaxError\u001b[0m\u001b[0;31m:\u001b[0m 'break' outside loop\n"
     ]
    }
   ],
   "source": [
    "#Define a function named get_customer_orders that takes no parameters. \n",
    "#Inside the function, implement the code for prompting the user to enter the product names using a loop. \n",
    "#The function should return the customer_orders set.\n",
    "\n",
    "def get_customer_orders():\n",
    "    user_input = input(\"Please enter products seperately from the list\")\n",
    "    customer_orders=set()\n",
    "    while True:\n",
    "        if product in products:\n",
    "            customer_orders.add(product)\n",
    "    else: \n",
    "        print(\"Invalid Productname, try again bish\")\n",
    "\n",
    "    more = input(\"Yo bish u wna add more products to your set? (yes/no)\")\n",
    "\n",
    "    if more != 'yes':\n",
    "        break\n",
    "        \n",
    "return customer_orders\n",
    "        \n"
   ]
  },
  {
   "cell_type": "code",
   "execution_count": 19,
   "id": "19207744-4620-456b-8157-7f325641b520",
   "metadata": {},
   "outputs": [],
   "source": [
    "#Define a function named update_inventory that takes customer_orders and inventory as parameters. Inside the function, \n",
    "#implement the code for updating the inventory dictionary based on the customer orders.\n",
    "\n",
    "def update_inventory(customer_orders, inventory):\n",
    "    for product in customer_orders:\n",
    "        if inventory.get(product) is not None:\n",
    "            inventory[product] = max(0, inventory[product] - 1)\n",
    "\n",
    "    return inventory"
   ]
  },
  {
   "cell_type": "code",
   "execution_count": null,
   "id": "70ed19ed-9402-4e25-a607-239dc3eca0b3",
   "metadata": {},
   "outputs": [],
   "source": [
    "#Define a function named calculate_order_statistics that takes customer_orders and products as parameters. \n",
    "#Inside the function, implement the code for calculating the order statistics \n",
    "#(total products ordered, and percentage of unique products ordered). The function should return these values.\n",
    "\n",
    "def calculate_order_statistics(customer_orders, products):\n",
    "    total = len(customer_orders)\n",
    "    percentage = len(customer_orders) / len(products) *100\n",
    "\n",
    "return total, percentage"
   ]
  },
  {
   "cell_type": "code",
   "execution_count": 21,
   "id": "c78537f5-5bf3-40c2-8495-34e69aed69e6",
   "metadata": {},
   "outputs": [],
   "source": [
    "#Define a function named print_order_statistics that takes order_statistics as a parameter. \n",
    "#Inside the function, implement the code for printing the order statistics.\n",
    "\n",
    "def print_order_statistics(order_statistics):\n",
    "    \n",
    "    total_products_ordered, percentage_ordered = order_statistics  # Unpack the tuple\n",
    "    \n",
    "    print(\"Order Statistics:\")\n",
    "    print(f\"Total Products Ordered: {total_products_ordered}\")\n",
    "    print(f\"Percentage of Products Ordered: {percentage_ordered:.2f}%\")  # Format to two decimal places\n"
   ]
  },
  {
   "cell_type": "code",
   "execution_count": null,
   "id": "99928c6b-0e73-4f08-94a6-b27073aa629c",
   "metadata": {},
   "outputs": [],
   "source": [
    "#Define a function named print_updated_inventory that takes inventory as a parameter. \n",
    "#Inside the function, implement the code for printing the updated inventory.\n",
    "\n",
    "def print_updated_inventory(inventory)\n",
    "\n",
    "    print(\"Updated Inventory:\")\n",
    "    \n",
    "    for product, quantity in inventory.items():\n",
    "        print(f\"{product}: {quantity}\")\n",
    "    "
   ]
  },
  {
   "cell_type": "markdown",
   "id": "74555ecd-81e0-4867-abcd-21e156f6f9c3",
   "metadata": {},
   "source": [
    "#Call the functions in the appropriate sequence to execute the program and manage customer orders.\n",
    "\n",
    "Hints for functions:\n",
    "\n",
    "Consider the input parameters required for each function and their return values.\n",
    "Utilize function parameters and return values to transfer data between functions.\n",
    "Test your functions individually to ensure they work correctly."
   ]
  },
  {
   "cell_type": "code",
   "execution_count": null,
   "id": "58686ce7-99be-449b-8462-015206df6043",
   "metadata": {},
   "outputs": [],
   "source": []
  }
 ],
 "metadata": {
  "kernelspec": {
   "display_name": "Python 3 (ipykernel)",
   "language": "python",
   "name": "python3"
  },
  "language_info": {
   "codemirror_mode": {
    "name": "ipython",
    "version": 3
   },
   "file_extension": ".py",
   "mimetype": "text/x-python",
   "name": "python",
   "nbconvert_exporter": "python",
   "pygments_lexer": "ipython3",
   "version": "3.12.4"
  }
 },
 "nbformat": 4,
 "nbformat_minor": 5
}
