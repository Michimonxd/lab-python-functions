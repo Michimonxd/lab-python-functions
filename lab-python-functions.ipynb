{
 "cells": [
  {
   "cell_type": "markdown",
   "id": "25d7736c-ba17-4aff-b6bb-66eba20fbf4e",
   "metadata": {},
   "source": [
    "# Lab | Functions"
   ]
  },
  {
   "cell_type": "markdown",
   "id": "0c581062-8967-4d93-b06e-62833222f930",
   "metadata": {
    "tags": []
   },
   "source": [
    "## Exercise: Managing Customer Orders with Functions\n",
    "\n",
    "In the previous exercise, you improved the code for managing customer orders by using loops and flow control. Now, let's take it a step further and refactor the code by introducing functions.\n",
    "\n",
    "Follow the steps below to complete the exercise:\n",
    "\n",
    "1. Define a function named `initialize_inventory` that takes `products` as a parameter. Inside the function, implement the code for initializing the inventory dictionary using a loop and user input.\n",
    "\n",
    "2. Define a function named `get_customer_orders` that takes no parameters. Inside the function, implement the code for prompting the user to enter the product names using a loop. The function should return the `customer_orders` set.\n",
    "\n",
    "3. Define a function named `update_inventory` that takes `customer_orders` and `inventory` as parameters. Inside the function, implement the code for updating the inventory dictionary based on the customer orders.\n",
    "\n",
    "4. Define a function named `calculate_order_statistics` that takes `customer_orders` and `products` as parameters. Inside the function, implement the code for calculating the order statistics (total products ordered, and percentage of unique products ordered). The function should return these values.\n",
    "\n",
    "5. Define a function named `print_order_statistics` that takes `order_statistics` as a parameter. Inside the function, implement the code for printing the order statistics.\n",
    "\n",
    "6. Define a function named `print_updated_inventory` that takes `inventory` as a parameter. Inside the function, implement the code for printing the updated inventory.\n",
    "\n",
    "7. Call the functions in the appropriate sequence to execute the program and manage customer orders.\n",
    "\n",
    "Hints for functions:\n",
    "\n",
    "- Consider the input parameters required for each function and their return values.\n",
    "- Utilize function parameters and return values to transfer data between functions.\n",
    "- Test your functions individually to ensure they work correctly.\n",
    "\n",
    "\n"
   ]
  },
  {
   "cell_type": "markdown",
   "id": "7a444572-9281-4e04-bb51-b03c63e81501",
   "metadata": {},
   "source": [
    "#Define a function named initialize_inventory that takes products as a parameter. \n",
    "#Inside the function, implement the code for initializing the inventory dictionary using a loop and user input.\n",
    "\n",
    "products = [\"t-shirt\", \"mug\", \"hat\", \"book\", \"keychain\"]\n",
    "\n",
    "def initialize_inventory(products):\n",
    "    inventory={}\n",
    "    for product in products:\n",
    "        quantity = int(input(f\"Enter the quantity for {product}: \"))\n",
    "        inventory[product] = quantity\n",
    "    return inventory\n",
    "        \n",
    "    "
   ]
  },
  {
   "cell_type": "markdown",
   "id": "2647536e-7877-4734-ab90-d8ea452a3b7b",
   "metadata": {},
   "source": [
    "#Define a function named get_customer_orders that takes no parameters. \n",
    "#Inside the function, implement the code for prompting the user to enter the product names using a loop. \n",
    "#The function should return the customer_orders set.\n",
    "\n",
    "def get_customer_orders():\n",
    "    customer_orders = set()\n",
    "    while True:\n",
    "        if product in products:\n",
    "            customer_orders.add(product)\n",
    "        else: \n",
    "            print(\"Invalid Productname, try again bish\")\n",
    "\n",
    "        more = input(\"Yo bish u wna add more products to your set? (yes/no)\").strip().lower()\n",
    "\n",
    "        if more != 'yes':\n",
    "            break\n",
    "        \n",
    "    return customer_orders"
   ]
  },
  {
   "cell_type": "markdown",
   "id": "dfa97682-4a9e-4aaa-ade0-db241579c019",
   "metadata": {},
   "source": [
    "#Define a function named calculate_order_statistics that takes customer_orders and products as parameters. \n",
    "#Inside the function, implement the code for calculating the order statistics \n",
    "#(total products ordered, and percentage of unique products ordered). The function should return these values.\n",
    "\n",
    "def calculate_order_statistics(customer_orders, products):\n",
    "    total = len(customer_orders)\n",
    "    percentage = len(customer_orders) / len(products) *100\n",
    "\n",
    "    return total, percentage"
   ]
  },
  {
   "cell_type": "markdown",
   "id": "471434be-b324-463c-8705-fa4207927d35",
   "metadata": {},
   "source": [
    "#Define a function named print_order_statistics that takes order_statistics as a parameter. \n",
    "#Inside the function, implement the code for printing the order statistics.\n",
    "\n",
    "def print_order_statistics(order_statistics):\n",
    "    \n",
    "    total_products_ordered, percentage_ordered = order_statistics  # Unpack the tuple\n",
    "    \n",
    "    print(\"Order Statistics:\")\n",
    "    print(f\"Total Products Ordered: {total_products_ordered}\")\n",
    "    print(f\"Percentage of Products Ordered: {percentage_ordered:.2f}%\")  # Format to two decimal places"
   ]
  },
  {
   "cell_type": "markdown",
   "id": "1a8415f0-caab-4ac9-8824-e0fa9cebd240",
   "metadata": {},
   "source": [
    "#Define a function named update_inventory that takes customer_orders and inventory as parameters. Inside the function, \n",
    "#implement the code for updating the inventory dictionary based on the customer orders.\n",
    "\n",
    "def update_inventory(customer_orders, inventory):\n",
    "    for product in customer_orders:\n",
    "        if inventory.get(product) is not None:\n",
    "            inventory[product] = max(0, inventory[product] - 1)\n",
    "\n",
    "    return inventory"
   ]
  },
  {
   "cell_type": "markdown",
   "id": "4b6e6410-eac9-4cc9-8cb4-9fb912b1e2c8",
   "metadata": {},
   "source": [
    "#Define a function named print_updated_inventory that takes inventory as a parameter. \n",
    "#Inside the function, implement the code for printing the updated inventory.\n",
    "\n",
    "def print_updated_inventory(inventory):\n",
    "\n",
    "    print(\"Updated Inventory:\")\n",
    "    \n",
    "    for product, quantity in inventory.items():\n",
    "        print(f\"{product}: {quantity}\")"
   ]
  },
  {
   "cell_type": "markdown",
   "id": "74555ecd-81e0-4867-abcd-21e156f6f9c3",
   "metadata": {},
   "source": [
    "#Call the functions in the appropriate sequence to execute the program and manage customer orders.\n",
    "\n",
    "Hints for functions:\n",
    "\n",
    "Consider the input parameters required for each function and their return values.\n",
    "Utilize function parameters and return values to transfer data between functions.\n",
    "Test your functions individually to ensure they work correctly."
   ]
  },
  {
   "cell_type": "markdown",
   "id": "14d13b8b-e6ca-401f-b067-7435d2d85620",
   "metadata": {},
   "source": [
    "inventory = initialize_inventory(products)\n",
    "\n",
    "customer_orders = get_customer_orders()\n",
    "\n",
    "order_statistics = calculate_order_statistics(customer_orders, products)\n",
    "\n",
    "print_order_statistics(order_statistics)\n",
    "\n",
    "updated_inventory = update_inventory(customer_orders, inventory)\n",
    "print_updated_inventory(updated_inventory)"
   ]
  },
  {
   "cell_type": "markdown",
   "id": "c42cd8fc-080a-406b-85f2-b03ac2a82ddc",
   "metadata": {},
   "source": [
    "inventory = initialize_inventory(products)  # Step 1: Initialize inventory\n",
    "customer_orders = get_customer_orders()  # Step 2: Get customer orders\n",
    "order_statistics = calculate_order_statistics(customer_orders, products)  # Step 3: Calculate order statistics\n",
    "print_order_statistics(order_statistics)  # Step 4: Print order statistics\n",
    "updated_inventory = update_inventory(customer_orders, inventory)  # Step 5: Update inventory\n",
    "print_updated_inventory(updated_inventory)  # Step 6: Prin"
   ]
  },
  {
   "cell_type": "code",
   "execution_count": 121,
   "id": "79ab588e-8bce-4eab-87a0-87888fc5c27f",
   "metadata": {},
   "outputs": [
    {
     "name": "stdin",
     "output_type": "stream",
     "text": [
      "Enter the quantity for t-shirt:  2\n",
      "Enter the quantity for mug:  3\n",
      "Enter the quantity for hat:  4\n",
      "Enter the quantity for book:  5\n",
      "Enter the quantity for keychain:  6\n",
      "Enter a product name (or type 'done' to finish):  mug\n",
      "Would you like to add more products? (yes/no):  no\n"
     ]
    },
    {
     "name": "stdout",
     "output_type": "stream",
     "text": [
      "Order Statistics:\n",
      "Total Products Ordered: 1\n",
      "Percentage of Products Ordered: 20.00%\n",
      "Updated Inventory:\n",
      "t-shirt: 2\n",
      "mug: 2\n",
      "hat: 4\n",
      "book: 5\n",
      "keychain: 6\n"
     ]
    }
   ],
   "source": [
    "products = [\"t-shirt\", \"mug\", \"hat\", \"book\", \"keychain\"]\n",
    "\n",
    "# 1. Initialize inventory\n",
    "def initialize_inventory(products):\n",
    "    inventory = {}\n",
    "    for product in products:\n",
    "        quantity = int(input(f\"Enter the quantity for {product}: \"))\n",
    "        inventory[product] = quantity  # Initialize with user input\n",
    "    return inventory\n",
    "\n",
    "# 2. Get customer orders\n",
    "def get_customer_orders():\n",
    "    customer_orders = set()\n",
    "    while True:\n",
    "        product = input(\"Enter a product name (or type 'done' to finish): \").lower()\n",
    "        if product == 'done':\n",
    "            break\n",
    "        elif product in products:\n",
    "            customer_orders.add(product)\n",
    "        else:\n",
    "            print(\"Invalid product name, please try again.\")\n",
    "        \n",
    "        more = input(\"Would you like to add more products? (yes/no): \").lower()\n",
    "        if more != 'yes':\n",
    "            break\n",
    "            \n",
    "    return customer_orders\n",
    "\n",
    "# 3. Calculate order statistics\n",
    "def calculate_order_statistics(customer_orders, products):\n",
    "    total = len(customer_orders)  # Total products ordered\n",
    "    percentage = (len(customer_orders) / len(products)) * 100  # Percentage of unique products ordered\n",
    "    return total, percentage\n",
    "\n",
    "# 4. Print order statistics\n",
    "def print_order_statistics(order_statistics):\n",
    "    total_products_ordered, percentage_ordered = order_statistics  # Unpack the tuple\n",
    "    print(\"Order Statistics:\")\n",
    "    print(f\"Total Products Ordered: {total_products_ordered}\")\n",
    "    print(f\"Percentage of Products Ordered: {percentage_ordered:.2f}%\")\n",
    "\n",
    "# 5. Update inventory\n",
    "def update_inventory(customer_orders, inventory):\n",
    "    for product in customer_orders:\n",
    "        if inventory.get(product) is not None:\n",
    "            inventory[product] = max(0, inventory[product] - 1)  # Decrease by 1, but not below 0\n",
    "    return inventory\n",
    "\n",
    "# 6. Print updated inventory\n",
    "def print_updated_inventory(inventory):\n",
    "    print(\"Updated Inventory:\")\n",
    "    for product, quantity in inventory.items():\n",
    "        print(f\"{product}: {quantity}\")\n",
    "\n",
    "# Call the functions in sequence\n",
    "inventory = initialize_inventory(products)  # Step 1: Initialize inventory\n",
    "customer_orders = get_customer_orders()  # Step 2: Get customer orders\n",
    "order_statistics = calculate_order_statistics(customer_orders, products)  # Step 3: Calculate order statistics\n",
    "print_order_statistics(order_statistics)  # Step 4: Print order statistics\n",
    "updated_inventory = update_inventory(customer_orders, inventory)  # Step 5: Update inventory\n",
    "print_updated_inventory(updated_inventory)  # Step 6: Print updated inventory\n"
   ]
  },
  {
   "cell_type": "code",
   "execution_count": null,
   "id": "b3562965-61a0-468a-8bbd-d7f579be6c25",
   "metadata": {},
   "outputs": [],
   "source": []
  }
 ],
 "metadata": {
  "kernelspec": {
   "display_name": "Python 3 (ipykernel)",
   "language": "python",
   "name": "python3"
  },
  "language_info": {
   "codemirror_mode": {
    "name": "ipython",
    "version": 3
   },
   "file_extension": ".py",
   "mimetype": "text/x-python",
   "name": "python",
   "nbconvert_exporter": "python",
   "pygments_lexer": "ipython3",
   "version": "3.12.4"
  }
 },
 "nbformat": 4,
 "nbformat_minor": 5
}
